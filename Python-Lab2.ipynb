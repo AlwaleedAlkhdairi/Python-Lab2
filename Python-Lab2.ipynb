{
 "cells": [
  {
   "cell_type": "markdown",
   "id": "18260aa8",
   "metadata": {},
   "source": [
    "# Alwaleed Alkhdairi\n",
    "## Lab 2\n",
    "- **Python**"
   ]
  },
  {
   "cell_type": "code",
   "execution_count": 3,
   "id": "a15d260a",
   "metadata": {},
   "outputs": [
    {
     "name": "stdout",
     "output_type": "stream",
     "text": [
      " I recommended it, It is good \n"
     ]
    }
   ],
   "source": [
    "batman = 3\n",
    "popularity_score = 72.65\n",
    "if batman >= 4 and popularity_score > 80:\n",
    "    print (\"Highly recommended\")\n",
    "elif batman >= 3 and popularity_score > 70:\n",
    "    print(\" I recommended it, It is good \")\n",
    "elif batman <= 2 and popularity_score > 60:\n",
    "    print (\"You should check it out!\")\n",
    "#elif batman <= 2 and popularity_score < 50:\n",
    "    #print(\"Don't watch it, It is a waste of time\")\n",
    "else:\n",
    "    print(\"Don't watch it, It is a waste of time\")"
   ]
  }
 ],
 "metadata": {
  "kernelspec": {
   "display_name": "Python 3 (ipykernel)",
   "language": "python",
   "name": "python3"
  },
  "language_info": {
   "codemirror_mode": {
    "name": "ipython",
    "version": 3
   },
   "file_extension": ".py",
   "mimetype": "text/x-python",
   "name": "python",
   "nbconvert_exporter": "python",
   "pygments_lexer": "ipython3",
   "version": "3.9.13"
  }
 },
 "nbformat": 4,
 "nbformat_minor": 5
}
